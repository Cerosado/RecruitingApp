{
 "cells": [
  {
   "cell_type": "markdown",
   "metadata": {
    "collapsed": true,
    "pycharm": {
     "name": "#%% md\n"
    }
   },
   "source": [
    "Import dependencies"
   ]
  },
  {
   "cell_type": "code",
   "execution_count": 7,
   "metadata": {
    "pycharm": {
     "name": "#%%\n"
    }
   },
   "outputs": [],
   "source": [
    "import sklearn\n",
    "import pandas\n",
    "from src.backend.resume_parser import custom_resume_parser\n",
    "from src.backend.resume_parser.main import parse_dataset_to_csv\n",
    "from sklearn.feature_extraction.text \\\n",
    "    import CountVectorizer, HashingVectorizer, TfidfVectorizer\n",
    "from sklearn.model_selection import train_test_split\n",
    "from sklearn.linear_model import LogisticRegression\n",
    "from sklearn.compose import ColumnTransformer\n",
    "from sklearn.pipeline import Pipeline\n",
    "import matplotlib.pyplot as plt\n",
    "import seaborn as sns\n",
    "from sklearn import metrics"
   ]
  },
  {
   "cell_type": "markdown",
   "metadata": {
    "pycharm": {
     "name": "#%% md\n"
    }
   },
   "source": [
    "Datasets stored on csv files after being parsed"
   ]
  },
  {
   "cell_type": "code",
   "execution_count": 4,
   "metadata": {
    "pycharm": {
     "name": "#%%\n"
    }
   },
   "outputs": [],
   "source": [
    "software_data = pandas.read_csv('dataset_csvs/software_dev.csv').fillna(' ')\n",
    "software_features = software_data[['skills', 'experience', 'education_section']]\n",
    "Y_sw = software_data['label']"
   ]
  },
  {
   "cell_type": "markdown",
   "metadata": {
    "pycharm": {
     "name": "#%% md\n"
    }
   },
   "source": [
    "Transform data to format usable by sklearn's models (Vectorize)"
   ]
  },
  {
   "cell_type": "code",
   "execution_count": 3,
   "metadata": {
    "pycharm": {
     "name": "#%%\n"
    }
   },
   "outputs": [],
   "source": [
    "pipe = Pipeline([\n",
    "    ('transform', ColumnTransformer([\n",
    "        ('skills', CountVectorizer(), 'skills'),\n",
    "        ('experience', TfidfVectorizer(), 'experience'),\n",
    "        ('education', TfidfVectorizer(), 'education_section'),\n",
    "    ])),\n",
    "    ('logistic', LogisticRegression()),\n",
    "])"
   ]
  },
  {
   "cell_type": "markdown",
   "metadata": {},
   "source": [
    "Split data for testing and training"
   ]
  },
  {
   "cell_type": "code",
   "execution_count": 4,
   "metadata": {
    "pycharm": {
     "name": "#%%\n"
    }
   },
   "outputs": [],
   "source": [
    "x_train_sw, x_test_sw, y_train_sw, y_test_sw = train_test_split(software_features,\n",
    "                                                    Y_sw,\n",
    "                                                    stratify=Y_sw,\n",
    "                                                    random_state=20)"
   ]
  },
  {
   "cell_type": "markdown",
   "metadata": {
    "pycharm": {
     "name": "#%% md\n"
    }
   },
   "source": [
    "Find best parameters for LogisticRegression with GridSearch cross-validation"
   ]
  },
  {
   "cell_type": "code",
   "execution_count": 11,
   "metadata": {
    "pycharm": {
     "name": "#%%\n"
    }
   },
   "outputs": [],
   "source": [
    "from sklearn.model_selection import GridSearchCV\n",
    "\n",
    "param_grid = {\n",
    "    'logistic__penalty': ['l2'],\n",
    "    'logistic__C': pandas.np.logspace(-4, 4, 20),\n",
    "    'logistic__solver': ['liblinear']\n",
    "}\n",
    "\n",
    "def grid_search(dataset_x, dataset_y):\n",
    "    pipeline = Pipeline([\n",
    "        ('transform', ColumnTransformer([\n",
    "            ('skills', CountVectorizer(), 'skills'),\n",
    "            ('experience', TfidfVectorizer(), 'experience'),\n",
    "            ('education', TfidfVectorizer(), 'education_section'),\n",
    "        ])),\n",
    "        ('logistic', LogisticRegression()),\n",
    "    ])\n",
    "    cv = GridSearchCV(pipeline, param_grid, cv=5, verbose=True)\n",
    "    cv.fit(dataset_x, dataset_y)\n",
    "    return cv\n",
    "\n",
    "def grid_search_noedu(dataset_x, dataset_y):\n",
    "    pipeline = Pipeline([\n",
    "        ('transform', ColumnTransformer([\n",
    "            ('skills', CountVectorizer(), 'skills'),\n",
    "            ('experience', TfidfVectorizer(), 'experience'),\n",
    "        ])),\n",
    "        ('logistic', LogisticRegression()),\n",
    "    ])\n",
    "    cv = GridSearchCV(pipeline, param_grid, cv=5, verbose=True)\n",
    "    cv.fit(dataset_x, dataset_y)\n",
    "    return cv\n"
   ]
  },
  {
   "cell_type": "code",
   "execution_count": 6,
   "metadata": {
    "pycharm": {
     "name": "#%%\n"
    }
   },
   "outputs": [
    {
     "name": "stdout",
     "output_type": "stream",
     "text": [
      "Fitting 5 folds for each of 20 candidates, totalling 100 fits\n"
     ]
    },
    {
     "name": "stderr",
     "output_type": "stream",
     "text": [
      "[Parallel(n_jobs=1)]: Using backend SequentialBackend with 1 concurrent workers.\n",
      "[Parallel(n_jobs=1)]: Done 100 out of 100 | elapsed:    5.1s finished\n"
     ]
    }
   ],
   "source": [
    "log_reg_cv = grid_search(software_features, Y_sw)"
   ]
  },
  {
   "cell_type": "code",
   "execution_count": 7,
   "metadata": {
    "pycharm": {
     "name": "#%%\n"
    }
   },
   "outputs": [
    {
     "data": {
      "text/plain": "'C:\\\\Users\\\\Eduardo Perez\\\\WebstormProjects\\\\RecruitingApp\\\\src\\\\backend\\\\resume_parser'"
     },
     "execution_count": 7,
     "metadata": {},
     "output_type": "execute_result"
    }
   ],
   "source": [
    "import os\n",
    "\n",
    "os.getcwd()"
   ]
  },
  {
   "cell_type": "code",
   "execution_count": 8,
   "metadata": {
    "pycharm": {
     "name": "#%%\n"
    }
   },
   "outputs": [
    {
     "data": {
      "text/plain": "['../ranking_models/sw_model.pkl']"
     },
     "execution_count": 8,
     "metadata": {},
     "output_type": "execute_result"
    }
   ],
   "source": [
    "import joblib\n",
    "\n",
    "joblib.dump(log_reg_cv.best_estimator_, '../ranking_models/sw_model.pkl')\n"
   ]
  },
  {
   "cell_type": "code",
   "execution_count": 7,
   "metadata": {
    "pycharm": {
     "name": "#%%\n"
    }
   },
   "outputs": [
    {
     "name": "stdout",
     "output_type": "stream",
     "text": [
      "{'logistic__C': 0.08858667904100823, 'logistic__penalty': 'l2', 'logistic__solver': 'liblinear'}\n",
      "0.9111111111111111\n"
     ]
    },
    {
     "data": {
      "text/plain": "{'mean_fit_time': array([0.04157338, 0.04041123, 0.03960013, 0.03965211, 0.03958616,\n        0.04000406, 0.0406033 , 0.04060068, 0.04000044, 0.0417995 ,\n        0.0415997 , 0.04132218, 0.04179983, 0.04179969, 0.04160004,\n        0.04160004, 0.0413713 , 0.04140015, 0.04139915, 0.04160032]),\n 'std_fit_time': array([0.00379296, 0.00344935, 0.00313711, 0.00287154, 0.00271378,\n        0.00303765, 0.00360906, 0.00320073, 0.00303298, 0.0036554 ,\n        0.0027281 , 0.00268328, 0.00278604, 0.00299335, 0.00307276,\n        0.00265353, 0.00255965, 0.00338347, 0.00287047, 0.0032005 ]),\n 'mean_score_time': array([0.01059971, 0.00959997, 0.00939965, 0.00899982, 0.00921893,\n        0.0094008 , 0.00940104, 0.00919933, 0.00959973, 0.00940037,\n        0.00899997, 0.00939999, 0.0095993 , 0.00939989, 0.00960035,\n        0.00899987, 0.00940027, 0.00880036, 0.00960016, 0.00919943]),\n 'std_score_time': array([0.00512306, 0.00300734, 0.00320032, 0.00252627, 0.00246728,\n        0.00272946, 0.00233243, 0.00239995, 0.00257696, 0.00233209,\n        0.00228044, 0.00233177, 0.00257695, 0.00272732, 0.00257678,\n        0.00253   , 0.00233256, 0.00278812, 0.00257654, 0.00248269]),\n 'param_logistic__C': masked_array(data=[0.0001, 0.00026366508987303583, 0.0006951927961775605,\n                    0.0018329807108324356, 0.004832930238571752,\n                    0.012742749857031334, 0.03359818286283781,\n                    0.08858667904100823, 0.23357214690901212,\n                    0.615848211066026, 1.623776739188721,\n                    4.281332398719396, 11.288378916846883,\n                    29.763514416313132, 78.47599703514607,\n                    206.913808111479, 545.5594781168514, 1438.44988828766,\n                    3792.690190732246, 10000.0],\n              mask=[False, False, False, False, False, False, False, False,\n                    False, False, False, False, False, False, False, False,\n                    False, False, False, False],\n        fill_value='?',\n             dtype=object),\n 'param_logistic__penalty': masked_array(data=['l2', 'l2', 'l2', 'l2', 'l2', 'l2', 'l2', 'l2', 'l2',\n                    'l2', 'l2', 'l2', 'l2', 'l2', 'l2', 'l2', 'l2', 'l2',\n                    'l2', 'l2'],\n              mask=[False, False, False, False, False, False, False, False,\n                    False, False, False, False, False, False, False, False,\n                    False, False, False, False],\n        fill_value='?',\n             dtype=object),\n 'param_logistic__solver': masked_array(data=['liblinear', 'liblinear', 'liblinear', 'liblinear',\n                    'liblinear', 'liblinear', 'liblinear', 'liblinear',\n                    'liblinear', 'liblinear', 'liblinear', 'liblinear',\n                    'liblinear', 'liblinear', 'liblinear', 'liblinear',\n                    'liblinear', 'liblinear', 'liblinear', 'liblinear'],\n              mask=[False, False, False, False, False, False, False, False,\n                    False, False, False, False, False, False, False, False,\n                    False, False, False, False],\n        fill_value='?',\n             dtype=object),\n 'params': [{'logistic__C': 0.0001,\n   'logistic__penalty': 'l2',\n   'logistic__solver': 'liblinear'},\n  {'logistic__C': 0.00026366508987303583,\n   'logistic__penalty': 'l2',\n   'logistic__solver': 'liblinear'},\n  {'logistic__C': 0.0006951927961775605,\n   'logistic__penalty': 'l2',\n   'logistic__solver': 'liblinear'},\n  {'logistic__C': 0.0018329807108324356,\n   'logistic__penalty': 'l2',\n   'logistic__solver': 'liblinear'},\n  {'logistic__C': 0.004832930238571752,\n   'logistic__penalty': 'l2',\n   'logistic__solver': 'liblinear'},\n  {'logistic__C': 0.012742749857031334,\n   'logistic__penalty': 'l2',\n   'logistic__solver': 'liblinear'},\n  {'logistic__C': 0.03359818286283781,\n   'logistic__penalty': 'l2',\n   'logistic__solver': 'liblinear'},\n  {'logistic__C': 0.08858667904100823,\n   'logistic__penalty': 'l2',\n   'logistic__solver': 'liblinear'},\n  {'logistic__C': 0.23357214690901212,\n   'logistic__penalty': 'l2',\n   'logistic__solver': 'liblinear'},\n  {'logistic__C': 0.615848211066026,\n   'logistic__penalty': 'l2',\n   'logistic__solver': 'liblinear'},\n  {'logistic__C': 1.623776739188721,\n   'logistic__penalty': 'l2',\n   'logistic__solver': 'liblinear'},\n  {'logistic__C': 4.281332398719396,\n   'logistic__penalty': 'l2',\n   'logistic__solver': 'liblinear'},\n  {'logistic__C': 11.288378916846883,\n   'logistic__penalty': 'l2',\n   'logistic__solver': 'liblinear'},\n  {'logistic__C': 29.763514416313132,\n   'logistic__penalty': 'l2',\n   'logistic__solver': 'liblinear'},\n  {'logistic__C': 78.47599703514607,\n   'logistic__penalty': 'l2',\n   'logistic__solver': 'liblinear'},\n  {'logistic__C': 206.913808111479,\n   'logistic__penalty': 'l2',\n   'logistic__solver': 'liblinear'},\n  {'logistic__C': 545.5594781168514,\n   'logistic__penalty': 'l2',\n   'logistic__solver': 'liblinear'},\n  {'logistic__C': 1438.44988828766,\n   'logistic__penalty': 'l2',\n   'logistic__solver': 'liblinear'},\n  {'logistic__C': 3792.690190732246,\n   'logistic__penalty': 'l2',\n   'logistic__solver': 'liblinear'},\n  {'logistic__C': 10000.0,\n   'logistic__penalty': 'l2',\n   'logistic__solver': 'liblinear'}],\n 'split0_test_score': array([0.55555556, 0.55555556, 0.55555556, 0.66666667, 0.66666667,\n        0.66666667, 0.66666667, 0.77777778, 0.66666667, 0.66666667,\n        0.77777778, 0.77777778, 0.77777778, 0.77777778, 0.77777778,\n        0.88888889, 0.88888889, 0.88888889, 0.88888889, 0.88888889]),\n 'split1_test_score': array([0.55555556, 0.55555556, 0.66666667, 0.66666667, 0.77777778,\n        0.88888889, 0.88888889, 0.88888889, 0.88888889, 0.88888889,\n        0.88888889, 0.88888889, 0.88888889, 0.88888889, 0.88888889,\n        0.88888889, 0.88888889, 0.88888889, 0.88888889, 0.88888889]),\n 'split2_test_score': array([0.55555556, 0.66666667, 0.66666667, 0.66666667, 0.66666667,\n        0.66666667, 0.88888889, 0.88888889, 0.88888889, 0.77777778,\n        0.77777778, 0.77777778, 0.77777778, 0.77777778, 0.77777778,\n        0.66666667, 0.66666667, 0.66666667, 0.66666667, 0.66666667]),\n 'split3_test_score': array([0.77777778, 0.77777778, 1.        , 1.        , 1.        ,\n        1.        , 1.        , 1.        , 1.        , 1.        ,\n        1.        , 1.        , 1.        , 1.        , 1.        ,\n        1.        , 1.        , 1.        , 1.        , 1.        ]),\n 'split4_test_score': array([0.625, 0.625, 0.625, 0.875, 1.   , 1.   , 1.   , 1.   , 1.   ,\n        1.   , 1.   , 1.   , 1.   , 1.   , 1.   , 1.   , 1.   , 1.   ,\n        1.   , 1.   ]),\n 'mean_test_score': array([0.61388889, 0.63611111, 0.70277778, 0.775     , 0.82222222,\n        0.84444444, 0.88888889, 0.91111111, 0.88888889, 0.86666667,\n        0.88888889, 0.88888889, 0.88888889, 0.88888889, 0.88888889,\n        0.88888889, 0.88888889, 0.88888889, 0.88888889, 0.88888889]),\n 'std_test_score': array([0.08624541, 0.08258927, 0.15406027, 0.13844373, 0.15071844,\n        0.15071844, 0.12171612, 0.08314794, 0.12171612, 0.12957671,\n        0.0993808 , 0.0993808 , 0.0993808 , 0.0993808 , 0.0993808 ,\n        0.12171612, 0.12171612, 0.12171612, 0.12171612, 0.12171612]),\n 'rank_test_score': array([20, 19, 18, 17, 16, 15,  2,  1,  2, 14,  2,  2,  2,  2,  2,  2,  2,\n         2,  2,  2])}"
     },
     "execution_count": 7,
     "metadata": {},
     "output_type": "execute_result"
    }
   ],
   "source": [
    "print(log_reg_cv.best_params_)\n",
    "print(log_reg_cv.best_score_)\n",
    "log_reg_cv.cv_results_"
   ]
  },
  {
   "cell_type": "code",
   "execution_count": 8,
   "metadata": {
    "pycharm": {
     "name": "#%%\n"
    }
   },
   "outputs": [
    {
     "data": {
      "text/plain": "array([[0.13141966, 0.86858034],\n       [0.66461341, 0.33538659],\n       [0.75149105, 0.24850895],\n       [0.49822842, 0.50177158],\n       [0.67619729, 0.32380271],\n       [0.50062921, 0.49937079],\n       [0.92512626, 0.07487374],\n       [0.00874292, 0.99125708],\n       [0.69204995, 0.30795005],\n       [0.46876838, 0.53123162],\n       [0.61183312, 0.38816688]])"
     },
     "execution_count": 8,
     "metadata": {},
     "output_type": "execute_result"
    }
   ],
   "source": [
    "sw_best_model = log_reg_cv.best_estimator_\n",
    "sw_best_model.fit(x_train_sw, y_train_sw)\n",
    "\n",
    "sw_predictions = sw_best_model.predict(x_test_sw)\n",
    "sw_score = sw_best_model.score(x_test_sw, y_test_sw)\n",
    "sw_best_model.predict_proba(x_test_sw)"
   ]
  },
  {
   "cell_type": "code",
   "execution_count": 9,
   "metadata": {
    "pycharm": {
     "name": "#%%\n"
    }
   },
   "outputs": [
    {
     "data": {
      "text/plain": "<Figure size 432x360 with 2 Axes>",
      "image/png": "[encoded data removed]"
     },
     "metadata": {
      "needs_background": "light"
     },
     "output_type": "display_data"
    }
   ],
   "source": [
    "cm = metrics.confusion_matrix(y_test_sw, sw_predictions)\n",
    "\n",
    "plt.figure(figsize=(6,5))\n",
    "sns.heatmap(cm, annot=True, fmt=\".3f\", linewidths=.5, square = True, cmap = 'Blues_r')\n",
    "plt.ylabel('Actual label')\n",
    "plt.xlabel('Predicted label')\n",
    "all_sample_title = 'Accuracy Score: {0}'.format(sw_score)\n",
    "plt.title(all_sample_title, size = 15);"
   ]
  },
  {
   "cell_type": "markdown",
   "metadata": {
    "pycharm": {
     "name": "#%% md\n"
    }
   },
   "source": [
    "Load software dev data where education isn't considered"
   ]
  },
  {
   "cell_type": "code",
   "execution_count": 10,
   "metadata": {
    "pycharm": {
     "name": "#%%\n"
    }
   },
   "outputs": [],
   "source": [
    "sw_noedu_data = pandas.read_csv('dataset_csvs/software_dev_no_edu.csv').fillna('no info')\n",
    "sw_noedu_features = sw_noedu_data[['skills', 'experience',]]\n",
    "Y_sw_noedu = sw_noedu_data['label']"
   ]
  },
  {
   "cell_type": "code",
   "execution_count": 11,
   "metadata": {
    "pycharm": {
     "name": "#%%\n"
    }
   },
   "outputs": [
    {
     "name": "stdout",
     "output_type": "stream",
     "text": [
      "Fitting 5 folds for each of 20 candidates, totalling 100 fits\n"
     ]
    },
    {
     "name": "stderr",
     "output_type": "stream",
     "text": [
      "[Parallel(n_jobs=1)]: Using backend SequentialBackend with 1 concurrent workers.\n",
      "[Parallel(n_jobs=1)]: Done 100 out of 100 | elapsed:    6.0s finished\n"
     ]
    }
   ],
   "source": [
    "sw_noedu_cv = grid_search_noedu(sw_noedu_features, Y_sw_noedu)"
   ]
  },
  {
   "cell_type": "code",
   "execution_count": 12,
   "metadata": {
    "pycharm": {
     "name": "#%%\n"
    }
   },
   "outputs": [
    {
     "name": "stdout",
     "output_type": "stream",
     "text": [
      "{'logistic__C': 11.288378916846883, 'logistic__penalty': 'l2', 'logistic__solver': 'liblinear'}\n",
      "0.8872727272727273\n"
     ]
    },
    {
     "data": {
      "text/plain": "{'mean_fit_time': array([0.05626125, 0.05359979, 0.04640298, 0.04659953, 0.0465323 ,\n        0.04680171, 0.04760103, 0.0473999 , 0.04799967, 0.04759979,\n        0.04799976, 0.0486002 , 0.0486001 , 0.048703  , 0.04968863,\n        0.04857368, 0.04900126, 0.04939938, 0.04939985, 0.04900022]),\n 'std_fit_time': array([0.0155931 , 0.00659121, 0.00344112, 0.00313687, 0.00329711,\n        0.00343223, 0.00332077, 0.0032625 , 0.0033472 , 0.00293876,\n        0.00334658, 0.00332264, 0.00372003, 0.00337193, 0.00335854,\n        0.00376338, 0.00303383, 0.00361168, 0.00377381, 0.00334667]),\n 'mean_score_time': array([0.0112011 , 0.01220107, 0.01079907, 0.0110002 , 0.0107995 ,\n        0.0105998 , 0.01099987, 0.01060004, 0.01060038, 0.0110003 ,\n        0.01100006, 0.01079955, 0.01079936, 0.0108017 , 0.01140032,\n        0.01099963, 0.01139908, 0.0106009 , 0.01100044, 0.01120052]),\n 'std_score_time': array([0.00285697, 0.00491533, 0.00292522, 0.00275581, 0.00271316,\n        0.00300637, 0.00275566, 0.00300688, 0.00300735, 0.00275656,\n        0.00275683, 0.00271288, 0.00305962, 0.00305563, 0.00272715,\n        0.00328639, 0.00272771, 0.00300703, 0.0033469 , 0.00285692]),\n 'param_logistic__C': masked_array(data=[0.0001, 0.00026366508987303583, 0.0006951927961775605,\n                    0.0018329807108324356, 0.004832930238571752,\n                    0.012742749857031334, 0.03359818286283781,\n                    0.08858667904100823, 0.23357214690901212,\n                    0.615848211066026, 1.623776739188721,\n                    4.281332398719396, 11.288378916846883,\n                    29.763514416313132, 78.47599703514607,\n                    206.913808111479, 545.5594781168514, 1438.44988828766,\n                    3792.690190732246, 10000.0],\n              mask=[False, False, False, False, False, False, False, False,\n                    False, False, False, False, False, False, False, False,\n                    False, False, False, False],\n        fill_value='?',\n             dtype=object),\n 'param_logistic__penalty': masked_array(data=['l2', 'l2', 'l2', 'l2', 'l2', 'l2', 'l2', 'l2', 'l2',\n                    'l2', 'l2', 'l2', 'l2', 'l2', 'l2', 'l2', 'l2', 'l2',\n                    'l2', 'l2'],\n              mask=[False, False, False, False, False, False, False, False,\n                    False, False, False, False, False, False, False, False,\n                    False, False, False, False],\n        fill_value='?',\n             dtype=object),\n 'param_logistic__solver': masked_array(data=['liblinear', 'liblinear', 'liblinear', 'liblinear',\n                    'liblinear', 'liblinear', 'liblinear', 'liblinear',\n                    'liblinear', 'liblinear', 'liblinear', 'liblinear',\n                    'liblinear', 'liblinear', 'liblinear', 'liblinear',\n                    'liblinear', 'liblinear', 'liblinear', 'liblinear'],\n              mask=[False, False, False, False, False, False, False, False,\n                    False, False, False, False, False, False, False, False,\n                    False, False, False, False],\n        fill_value='?',\n             dtype=object),\n 'params': [{'logistic__C': 0.0001,\n   'logistic__penalty': 'l2',\n   'logistic__solver': 'liblinear'},\n  {'logistic__C': 0.00026366508987303583,\n   'logistic__penalty': 'l2',\n   'logistic__solver': 'liblinear'},\n  {'logistic__C': 0.0006951927961775605,\n   'logistic__penalty': 'l2',\n   'logistic__solver': 'liblinear'},\n  {'logistic__C': 0.0018329807108324356,\n   'logistic__penalty': 'l2',\n   'logistic__solver': 'liblinear'},\n  {'logistic__C': 0.004832930238571752,\n   'logistic__penalty': 'l2',\n   'logistic__solver': 'liblinear'},\n  {'logistic__C': 0.012742749857031334,\n   'logistic__penalty': 'l2',\n   'logistic__solver': 'liblinear'},\n  {'logistic__C': 0.03359818286283781,\n   'logistic__penalty': 'l2',\n   'logistic__solver': 'liblinear'},\n  {'logistic__C': 0.08858667904100823,\n   'logistic__penalty': 'l2',\n   'logistic__solver': 'liblinear'},\n  {'logistic__C': 0.23357214690901212,\n   'logistic__penalty': 'l2',\n   'logistic__solver': 'liblinear'},\n  {'logistic__C': 0.615848211066026,\n   'logistic__penalty': 'l2',\n   'logistic__solver': 'liblinear'},\n  {'logistic__C': 1.623776739188721,\n   'logistic__penalty': 'l2',\n   'logistic__solver': 'liblinear'},\n  {'logistic__C': 4.281332398719396,\n   'logistic__penalty': 'l2',\n   'logistic__solver': 'liblinear'},\n  {'logistic__C': 11.288378916846883,\n   'logistic__penalty': 'l2',\n   'logistic__solver': 'liblinear'},\n  {'logistic__C': 29.763514416313132,\n   'logistic__penalty': 'l2',\n   'logistic__solver': 'liblinear'},\n  {'logistic__C': 78.47599703514607,\n   'logistic__penalty': 'l2',\n   'logistic__solver': 'liblinear'},\n  {'logistic__C': 206.913808111479,\n   'logistic__penalty': 'l2',\n   'logistic__solver': 'liblinear'},\n  {'logistic__C': 545.5594781168514,\n   'logistic__penalty': 'l2',\n   'logistic__solver': 'liblinear'},\n  {'logistic__C': 1438.44988828766,\n   'logistic__penalty': 'l2',\n   'logistic__solver': 'liblinear'},\n  {'logistic__C': 3792.690190732246,\n   'logistic__penalty': 'l2',\n   'logistic__solver': 'liblinear'},\n  {'logistic__C': 10000.0,\n   'logistic__penalty': 'l2',\n   'logistic__solver': 'liblinear'}],\n 'split0_test_score': array([0.63636364, 0.63636364, 0.63636364, 0.72727273, 0.72727273,\n        0.72727273, 0.72727273, 0.81818182, 0.72727273, 0.72727273,\n        0.81818182, 0.81818182, 0.81818182, 0.81818182, 0.90909091,\n        0.90909091, 0.90909091, 0.90909091, 0.90909091, 0.90909091]),\n 'split1_test_score': array([0.63636364, 0.63636364, 0.63636364, 0.81818182, 0.90909091,\n        0.81818182, 0.81818182, 0.81818182, 0.81818182, 0.81818182,\n        0.81818182, 0.81818182, 0.81818182, 0.72727273, 0.72727273,\n        0.72727273, 0.72727273, 0.72727273, 0.72727273, 0.72727273]),\n 'split2_test_score': array([0.6, 0.6, 0.7, 0.7, 0.7, 0.7, 0.7, 0.7, 0.7, 0.7, 0.7, 0.7, 0.8,\n        0.8, 0.8, 0.8, 0.8, 0.8, 0.8, 0.8]),\n 'split3_test_score': array([0.6, 0.6, 0.8, 1. , 1. , 1. , 1. , 1. , 1. , 1. , 1. , 1. , 1. ,\n        1. , 1. , 1. , 1. , 1. , 1. , 1. ]),\n 'split4_test_score': array([0.6, 0.6, 0.7, 0.8, 1. , 1. , 1. , 1. , 1. , 1. , 1. , 1. , 1. ,\n        1. , 1. , 1. , 1. , 1. , 1. , 1. ]),\n 'mean_test_score': array([0.61454545, 0.61454545, 0.69454545, 0.80909091, 0.86727273,\n        0.84909091, 0.84909091, 0.86727273, 0.84909091, 0.84909091,\n        0.86727273, 0.86727273, 0.88727273, 0.86909091, 0.88727273,\n        0.88727273, 0.88727273, 0.88727273, 0.88727273, 0.88727273]),\n 'std_test_score': array([0.01781447, 0.01781447, 0.0599173 , 0.1050777 , 0.13004767,\n        0.12928283, 0.12928283, 0.11664738, 0.12928283, 0.12928283,\n        0.11664738, 0.11664738, 0.09228056, 0.11113241, 0.10872666,\n        0.10872666, 0.10872666, 0.10872666, 0.10872666, 0.10872666]),\n 'rank_test_score': array([19, 19, 18, 17,  9, 13, 13,  9, 13, 13,  9,  9,  1,  8,  1,  1,  1,\n         1,  1,  1])}"
     },
     "execution_count": 12,
     "metadata": {},
     "output_type": "execute_result"
    }
   ],
   "source": [
    "print(sw_noedu_cv.best_params_)\n",
    "print(sw_noedu_cv.best_score_)\n",
    "sw_noedu_cv.cv_results_"
   ]
  },
  {
   "cell_type": "code",
   "execution_count": 17,
   "metadata": {
    "pycharm": {
     "name": "#%%\n"
    }
   },
   "outputs": [],
   "source": [
    "from sklearn.base import clone\n",
    "\n",
    "def show_predict_proba_and_cm(x, y, model):\n",
    "    x_train, x_test, y_train, y_test = train_test_split(x, y,\n",
    "                                                        stratify=y, random_state=20)\n",
    "    classifier = clone(model)\n",
    "    classifier.fit(x_train, y_train)\n",
    "    predictions = classifier.predict(x_test)\n",
    "    score = classifier.score(x_test, y_test)\n",
    "    print(classifier.predict_proba(x_test))\n",
    "\n",
    "    cm_graph = metrics.confusion_matrix(y_test, predictions)\n",
    "\n",
    "    plt.figure(figsize=(6,5))\n",
    "    sns.heatmap(cm_graph, annot=True, fmt=\".3f\", linewidths=.5,\n",
    "                square = True, cmap = 'Blues_r')\n",
    "    plt.ylabel('Actual label')\n",
    "    plt.xlabel('Predicted label')\n",
    "    title = 'Accuracy Score: {0}'.format(score)\n",
    "    plt.title(title, size = 15)"
   ]
  },
  {
   "cell_type": "code",
   "execution_count": 14,
   "metadata": {
    "pycharm": {
     "name": "#%%\n"
    }
   },
   "outputs": [
    {
     "name": "stdout",
     "output_type": "stream",
     "text": [
      "[[8.62883013e-01 1.37116987e-01]\n",
      " [3.99750041e-01 6.00249959e-01]\n",
      " [9.43656063e-01 5.63439372e-02]\n",
      " [6.28050661e-05 9.99937195e-01]\n",
      " [8.99768001e-01 1.00231999e-01]\n",
      " [9.88928732e-01 1.10712677e-02]\n",
      " [2.49727749e-05 9.99975027e-01]\n",
      " [1.07906306e-02 9.89209369e-01]\n",
      " [8.69336859e-06 9.99991307e-01]\n",
      " [9.01210307e-06 9.99990988e-01]\n",
      " [7.56525794e-01 2.43474206e-01]\n",
      " [9.30942975e-01 6.90570245e-02]\n",
      " [9.99607193e-01 3.92807452e-04]]\n"
     ]
    },
    {
     "data": {
      "text/plain": "<Figure size 432x360 with 2 Axes>",
      "image/png": "[encoded data removed]"
     },
     "metadata": {
      "needs_background": "light"
     },
     "output_type": "display_data"
    }
   ],
   "source": [
    "show_predict_proba_and_cm(sw_noedu_features, Y_sw_noedu,\n",
    "                          sw_noedu_cv.best_estimator_)"
   ]
  },
  {
   "cell_type": "markdown",
   "metadata": {
    "pycharm": {
     "name": "#%% md\n"
    }
   },
   "source": [
    "Load data for other models"
   ]
  },
  {
   "cell_type": "code",
   "execution_count": 15,
   "metadata": {
    "pycharm": {
     "name": "#%%\n"
    }
   },
   "outputs": [],
   "source": [
    "parsed_resumes = pandas.read_csv(\n",
    "    \"parsed_results_dec3_v4.csv\", encoding=\"utf-8\"\n",
    ")[[\"education_section\", \"experience_section\", \"designation\", \"resume\"]]"
   ]
  },
  {
   "cell_type": "code",
   "execution_count": 5,
   "metadata": {
    "pycharm": {
     "name": "#%%\n"
    }
   },
   "outputs": [],
   "source": [
    "accounting_resumes = pandas.read_csv(\n",
    "    \"dataset_csvs/accounting.csv\", encoding=\"utf-8\"\n",
    ")[[\"skills\", \"experience\", \"education_section\", \"label\", \"resume\"]]\n",
    "\n",
    "accounting_no_edu_resumes = pandas.read_csv(\n",
    "    \"dataset_csvs/accounting_no_edu.csv\", encoding=\"utf-8\"\n",
    ")[[\"skills\", \"experience\", \"education_section\", \"label\", \"resume\"]]"
   ]
  },
  {
   "cell_type": "code",
   "execution_count": 12,
   "metadata": {
    "pycharm": {
     "name": "#%%\n"
    }
   },
   "outputs": [],
   "source": [
    "mgmt_resumes = pandas.read_csv(\n",
    "    \"dataset_csvs/management.csv\", encoding=\"utf-8\"\n",
    ")[[\"skills\", \"experience\", \"education_section\", \"label\", \"resume\"]]\n",
    "\n",
    "mgmt_no_edu_resumes = pandas.read_csv(\n",
    "    \"dataset_csvs/management_no_edu.csv\", encoding=\"utf-8\"\n",
    ")[[\"skills\", \"experience\", \"education_section\", \"label\", \"resume\"]]"
   ]
  },
  {
   "cell_type": "markdown",
   "metadata": {
    "pycharm": {
     "name": "#%% md\n"
    }
   },
   "source": [
    "Management model training and results"
   ]
  },
  {
   "cell_type": "code",
   "execution_count": 13,
   "metadata": {
    "pycharm": {
     "name": "#%%\n"
    }
   },
   "outputs": [],
   "source": [
    "mgmt_features = mgmt_resumes[[\"skills\", \"experience\", \"education_section\"]].fillna('no info')\n",
    "mgmt_y = mgmt_resumes[\"label\"]\n",
    "\n",
    "mgmt_no_edu_features = mgmt_no_edu_resumes[[\"skills\", \"experience\", \"education_section\"]].fillna('no info')\n",
    "mgmt_no_edu_y = mgmt_no_edu_resumes[\"label\"]"
   ]
  },
  {
   "cell_type": "code",
   "execution_count": 14,
   "metadata": {
    "pycharm": {
     "name": "#%%\n"
    }
   },
   "outputs": [
    {
     "name": "stdout",
     "output_type": "stream",
     "text": [
      "Fitting 5 folds for each of 20 candidates, totalling 100 fits\n"
     ]
    },
    {
     "name": "stderr",
     "output_type": "stream",
     "text": [
      "[Parallel(n_jobs=1)]: Using backend SequentialBackend with 1 concurrent workers.\n",
      "[Parallel(n_jobs=1)]: Done 100 out of 100 | elapsed:    5.0s finished\n"
     ]
    }
   ],
   "source": [
    "mgmt_cv = grid_search(mgmt_features, mgmt_y)"
   ]
  },
  {
   "cell_type": "code",
   "execution_count": 23,
   "metadata": {
    "pycharm": {
     "name": "#%%\n"
    }
   },
   "outputs": [
    {
     "data": {
      "text/plain": "{'logistic__C': 0.615848211066026,\n 'logistic__penalty': 'l2',\n 'logistic__solver': 'liblinear'}"
     },
     "execution_count": 23,
     "metadata": {},
     "output_type": "execute_result"
    }
   ],
   "source": [
    "mgmt_cv.best_params_"
   ]
  },
  {
   "cell_type": "code",
   "execution_count": 23,
   "outputs": [
    {
     "data": {
      "text/plain": "0.7916666666666667"
     },
     "execution_count": 23,
     "metadata": {},
     "output_type": "execute_result"
    }
   ],
   "source": [
    "mgmt_cv.best_score_"
   ],
   "metadata": {
    "collapsed": false,
    "pycharm": {
     "name": "#%%\n"
    }
   }
  },
  {
   "cell_type": "code",
   "execution_count": 15,
   "metadata": {
    "pycharm": {
     "name": "#%%\n"
    }
   },
   "outputs": [
    {
     "name": "stdout",
     "output_type": "stream",
     "text": [
      "Fitting 5 folds for each of 20 candidates, totalling 100 fits\n"
     ]
    },
    {
     "name": "stderr",
     "output_type": "stream",
     "text": [
      "[Parallel(n_jobs=1)]: Using backend SequentialBackend with 1 concurrent workers.\n",
      "[Parallel(n_jobs=1)]: Done 100 out of 100 | elapsed:    4.6s finished\n"
     ]
    }
   ],
   "source": [
    "mgmt_no_edu_cv = grid_search_noedu(mgmt_no_edu_features, mgmt_no_edu_y)"
   ]
  },
  {
   "cell_type": "code",
   "execution_count": 25,
   "metadata": {
    "pycharm": {
     "name": "#%%\n"
    }
   },
   "outputs": [
    {
     "data": {
      "text/plain": "{'logistic__C': 0.08858667904100823,\n 'logistic__penalty': 'l2',\n 'logistic__solver': 'liblinear'}"
     },
     "execution_count": 25,
     "metadata": {},
     "output_type": "execute_result"
    }
   ],
   "source": [
    "mgmt_no_edu_cv.best_params_"
   ]
  },
  {
   "cell_type": "code",
   "execution_count": 24,
   "outputs": [
    {
     "data": {
      "text/plain": "0.836111111111111"
     },
     "execution_count": 24,
     "metadata": {},
     "output_type": "execute_result"
    }
   ],
   "source": [
    "mgmt_no_edu_cv.best_score_"
   ],
   "metadata": {
    "collapsed": false,
    "pycharm": {
     "name": "#%%\n"
    }
   }
  },
  {
   "cell_type": "markdown",
   "metadata": {
    "pycharm": {
     "name": "#%% md\n"
    }
   },
   "source": [
    "Management (With edu) results"
   ]
  },
  {
   "cell_type": "code",
   "execution_count": 18,
   "metadata": {
    "pycharm": {
     "name": "#%%\n"
    }
   },
   "outputs": [
    {
     "name": "stdout",
     "output_type": "stream",
     "text": [
      "[[0.11576528 0.88423472]\n",
      " [0.912617   0.087383  ]\n",
      " [0.33964914 0.66035086]\n",
      " [0.73109363 0.26890637]\n",
      " [0.77192263 0.22807737]\n",
      " [0.18009546 0.81990454]\n",
      " [0.66209608 0.33790392]\n",
      " [0.25526146 0.74473854]\n",
      " [0.58986193 0.41013807]\n",
      " [0.53047139 0.46952861]\n",
      " [0.80784615 0.19215385]]\n"
     ]
    },
    {
     "data": {
      "text/plain": "<Figure size 432x360 with 2 Axes>",
      "image/png": "[encoded data removed]"
     },
     "metadata": {
      "needs_background": "light"
     },
     "output_type": "display_data"
    }
   ],
   "source": [
    "show_predict_proba_and_cm(mgmt_features, mgmt_y, mgmt_cv.best_estimator_)"
   ]
  },
  {
   "cell_type": "markdown",
   "metadata": {
    "pycharm": {
     "name": "#%% md\n"
    }
   },
   "source": [
    "Management (No edu) results"
   ]
  },
  {
   "cell_type": "code",
   "execution_count": 19,
   "metadata": {
    "pycharm": {
     "name": "#%%\n"
    }
   },
   "outputs": [
    {
     "name": "stdout",
     "output_type": "stream",
     "text": [
      "[[0.15523995 0.84476005]\n",
      " [0.7576383  0.2423617 ]\n",
      " [0.08829244 0.91170756]\n",
      " [0.38719045 0.61280955]\n",
      " [0.43727881 0.56272119]\n",
      " [0.12805384 0.87194616]\n",
      " [0.9390416  0.0609584 ]\n",
      " [0.12644332 0.87355668]\n",
      " [0.84466406 0.15533594]\n",
      " [0.12294808 0.87705192]\n",
      " [0.75001942 0.24998058]]\n"
     ]
    },
    {
     "data": {
      "text/plain": "<Figure size 432x360 with 2 Axes>",
      "image/png": "[encoded data removed]"
     },
     "metadata": {
      "needs_background": "light"
     },
     "output_type": "display_data"
    }
   ],
   "source": [
    "show_predict_proba_and_cm(mgmt_no_edu_features, mgmt_no_edu_y, mgmt_no_edu_cv.best_estimator_)"
   ]
  },
  {
   "cell_type": "markdown",
   "metadata": {
    "pycharm": {
     "name": "#%% md\n"
    }
   },
   "source": [
    "Accounting model training"
   ]
  },
  {
   "cell_type": "code",
   "execution_count": 26,
   "metadata": {
    "pycharm": {
     "name": "#%%\n"
    }
   },
   "outputs": [],
   "source": [
    "account_features = accounting_resumes[[\"skills\", \"experience\", \"education_section\"]].fillna('no info')\n",
    "account_y = accounting_resumes[\"label\"]\n",
    "\n",
    "account_no_edu_features = accounting_no_edu_resumes[[\"skills\", \"experience\", \"education_section\"]].fillna('no info')\n",
    "account_no_edu_y = accounting_no_edu_resumes[\"label\"]"
   ]
  },
  {
   "cell_type": "code",
   "execution_count": 27,
   "metadata": {
    "pycharm": {
     "name": "#%%\n"
    }
   },
   "outputs": [
    {
     "name": "stdout",
     "output_type": "stream",
     "text": [
      "Fitting 5 folds for each of 20 candidates, totalling 100 fits\n"
     ]
    },
    {
     "name": "stderr",
     "output_type": "stream",
     "text": [
      "[Parallel(n_jobs=1)]: Using backend SequentialBackend with 1 concurrent workers.\n",
      "[Parallel(n_jobs=1)]: Done 100 out of 100 | elapsed:    7.8s finished\n"
     ]
    }
   ],
   "source": [
    "account_cv = grid_search(account_features, account_y)"
   ]
  },
  {
   "cell_type": "code",
   "execution_count": 28,
   "metadata": {
    "pycharm": {
     "name": "#%%\n"
    }
   },
   "outputs": [
    {
     "data": {
      "text/plain": "{'logistic__C': 1.623776739188721,\n 'logistic__penalty': 'l2',\n 'logistic__solver': 'liblinear'}"
     },
     "execution_count": 28,
     "metadata": {},
     "output_type": "execute_result"
    }
   ],
   "source": [
    "account_cv.best_params_"
   ]
  },
  {
   "cell_type": "code",
   "execution_count": 29,
   "outputs": [
    {
     "data": {
      "text/plain": "0.9444444444444444"
     },
     "execution_count": 29,
     "metadata": {},
     "output_type": "execute_result"
    }
   ],
   "source": [
    "account_cv.best_score_"
   ],
   "metadata": {
    "collapsed": false,
    "pycharm": {
     "name": "#%%\n"
    }
   }
  },
  {
   "cell_type": "code",
   "execution_count": 31,
   "metadata": {
    "pycharm": {
     "name": "#%%\n"
    }
   },
   "outputs": [
    {
     "name": "stdout",
     "output_type": "stream",
     "text": [
      "Fitting 5 folds for each of 20 candidates, totalling 100 fits\n"
     ]
    },
    {
     "name": "stderr",
     "output_type": "stream",
     "text": [
      "[Parallel(n_jobs=1)]: Using backend SequentialBackend with 1 concurrent workers.\n",
      "[Parallel(n_jobs=1)]: Done 100 out of 100 | elapsed:    7.5s finished\n"
     ]
    }
   ],
   "source": [
    "account_no_edu_cv = grid_search_noedu(account_no_edu_features, account_no_edu_y)"
   ]
  },
  {
   "cell_type": "code",
   "execution_count": 32,
   "metadata": {
    "pycharm": {
     "name": "#%%\n"
    }
   },
   "outputs": [
    {
     "data": {
      "text/plain": "{'logistic__C': 0.615848211066026,\n 'logistic__penalty': 'l2',\n 'logistic__solver': 'liblinear'}"
     },
     "execution_count": 32,
     "metadata": {},
     "output_type": "execute_result"
    }
   ],
   "source": [
    "account_no_edu_cv.best_params_"
   ]
  },
  {
   "cell_type": "code",
   "execution_count": 33,
   "outputs": [
    {
     "data": {
      "text/plain": "0.9777777777777779"
     },
     "execution_count": 33,
     "metadata": {},
     "output_type": "execute_result"
    }
   ],
   "source": [
    "account_no_edu_cv.best_score_"
   ],
   "metadata": {
    "collapsed": false,
    "pycharm": {
     "name": "#%%\n"
    }
   }
  },
  {
   "cell_type": "markdown",
   "metadata": {
    "pycharm": {
     "name": "#%% md\n"
    }
   },
   "source": [
    "Accounting (With edu) results"
   ]
  },
  {
   "cell_type": "code",
   "execution_count": 33,
   "metadata": {
    "pycharm": {
     "name": "#%%\n"
    }
   },
   "outputs": [
    {
     "name": "stdout",
     "output_type": "stream",
     "text": [
      "[[1.02302724e-02 9.89769728e-01]\n",
      " [9.99770137e-01 2.29862726e-04]\n",
      " [7.94381066e-01 2.05618934e-01]\n",
      " [9.85488034e-01 1.45119664e-02]\n",
      " [1.28830067e-02 9.87116993e-01]\n",
      " [9.99274070e-01 7.25930277e-04]\n",
      " [6.96371166e-02 9.30362883e-01]\n",
      " [2.83265478e-01 7.16734522e-01]\n",
      " [9.99994396e-01 5.60368656e-06]\n",
      " [1.14011171e-01 8.85988829e-01]\n",
      " [6.84356543e-02 9.31564346e-01]\n",
      " [9.86686005e-01 1.33139948e-02]\n",
      " [2.23909163e-02 9.77609084e-01]\n",
      " [8.66947044e-01 1.33052956e-01]\n",
      " [4.32986785e-02 9.56701322e-01]\n",
      " [9.98808508e-01 1.19149238e-03]\n",
      " [1.71005443e-01 8.28994557e-01]\n",
      " [6.65187404e-03 9.93348126e-01]\n",
      " [2.73778190e-02 9.72622181e-01]\n",
      " [2.82790055e-01 7.17209945e-01]\n",
      " [3.09940252e-01 6.90059748e-01]\n",
      " [9.66905134e-01 3.30948660e-02]]\n"
     ]
    },
    {
     "data": {
      "text/plain": "<Figure size 432x360 with 2 Axes>",
      "image/png": "[encoded data removed]"
     },
     "metadata": {
      "needs_background": "light"
     },
     "output_type": "display_data"
    }
   ],
   "source": [
    "show_predict_proba_and_cm(account_features, account_y, account_cv.best_estimator_)"
   ]
  },
  {
   "cell_type": "markdown",
   "metadata": {
    "pycharm": {
     "name": "#%% md\n"
    }
   },
   "source": [
    "Accounting (Without edu) results"
   ]
  },
  {
   "cell_type": "code",
   "execution_count": 34,
   "metadata": {
    "pycharm": {
     "name": "#%%\n"
    }
   },
   "outputs": [
    {
     "name": "stdout",
     "output_type": "stream",
     "text": [
      "[[1.33066179e-01 8.66933821e-01]\n",
      " [7.66551432e-01 2.33448568e-01]\n",
      " [3.67890150e-02 9.63210985e-01]\n",
      " [1.57235824e-01 8.42764176e-01]\n",
      " [9.79906252e-02 9.02009375e-01]\n",
      " [8.76612544e-01 1.23387456e-01]\n",
      " [1.51244601e-01 8.48755399e-01]\n",
      " [5.18684581e-02 9.48131542e-01]\n",
      " [9.99813360e-01 1.86639521e-04]\n",
      " [9.47586403e-01 5.24135973e-02]\n",
      " [4.89820898e-02 9.51017910e-01]\n",
      " [9.89185529e-01 1.08144708e-02]\n",
      " [1.27837526e-01 8.72162474e-01]\n",
      " [8.83943608e-01 1.16056392e-01]\n",
      " [3.37419476e-03 9.96625805e-01]\n",
      " [9.50812468e-01 4.91875320e-02]\n",
      " [4.06261702e-02 9.59373830e-01]\n",
      " [9.58159871e-02 9.04184013e-01]\n",
      " [2.32261220e-02 9.76773878e-01]\n",
      " [6.12322152e-02 9.38767785e-01]\n",
      " [9.93812835e-01 6.18716489e-03]\n",
      " [9.99661279e-01 3.38721317e-04]]\n"
     ]
    },
    {
     "data": {
      "text/plain": "<Figure size 432x360 with 2 Axes>",
      "image/png": "[encoded data removed]"
     },
     "metadata": {
      "needs_background": "light"
     },
     "output_type": "display_data"
    }
   ],
   "source": [
    "show_predict_proba_and_cm(account_no_edu_features, account_no_edu_y, account_no_edu_cv.best_estimator_)"
   ]
  },
  {
   "cell_type": "markdown",
   "source": [
    "Dump model to disk to use in backend"
   ],
   "metadata": {
    "collapsed": false,
    "pycharm": {
     "name": "#%% md\n"
    }
   }
  },
  {
   "cell_type": "code",
   "execution_count": 22,
   "metadata": {
    "pycharm": {
     "name": "#%%\n"
    }
   },
   "outputs": [
    {
     "data": {
      "text/plain": "['../ranking_models/mgmt_model.pkl']"
     },
     "execution_count": 22,
     "metadata": {},
     "output_type": "execute_result"
    }
   ],
   "source": [
    "import joblib\n",
    "\n",
    "joblib.dump(mgmt_cv.best_estimator_, '../ranking_models/mgmt_model.pkl')"
   ]
  },
  {
   "cell_type": "markdown",
   "source": [
    "roc curves"
   ],
   "metadata": {
    "collapsed": false,
    "pycharm": {
     "name": "#%% md\n"
    }
   }
  },
  {
   "cell_type": "code",
   "execution_count": 39,
   "outputs": [],
   "source": [
    "from sklearn.metrics import plot_roc_curve\n",
    "\n",
    "def generate_roc_curve(x, y, estimator):\n",
    "    X_train, X_test, y_train, y_test = train_test_split(x, y, random_state=42)\n",
    "    estimator.fit(X_train, y_train)\n",
    "\n",
    "    plot_roc_curve(estimator, X_test, y_test)\n"
   ],
   "metadata": {
    "collapsed": false,
    "pycharm": {
     "name": "#%%\n"
    }
   }
  },
  {
   "cell_type": "code",
   "execution_count": 42,
   "outputs": [
    {
     "data": {
      "text/plain": "<Figure size 432x288 with 1 Axes>",
      "image/png": "[encoded data removed]"
     },
     "metadata": {
      "needs_background": "light"
     },
     "output_type": "display_data"
    }
   ],
   "source": [
    "generate_roc_curve(software_features, Y_sw, mgmt_cv.best_estimator_)"
   ],
   "metadata": {
    "collapsed": false,
    "pycharm": {
     "name": "#%%\n"
    }
   }
  }
 ],
 "metadata": {
  "kernelspec": {
   "display_name": "Python 3",
   "language": "python",
   "name": "python3"
  },
  "language_info": {
   "codemirror_mode": {
    "name": "ipython",
    "version": 3
   },
   "file_extension": ".py",
   "mimetype": "text/x-python",
   "name": "python",
   "nbconvert_exporter": "python",
   "pygments_lexer": "ipython3",
   "version": "3.7.4"
  }
 },
 "nbformat": 4,
 "nbformat_minor": 1
}